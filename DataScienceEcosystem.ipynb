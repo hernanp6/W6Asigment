{
 "cells": [
  {
   "cell_type": "markdown",
   "id": "b7fc61aa-8001-4cab-9b7e-83e1644cd924",
   "metadata": {
    "tags": []
   },
   "source": [
    "# Data Science Tools and Ecosystem"
   ]
  },
  {
   "cell_type": "markdown",
   "id": "d82fbeb9-642e-4ca9-869e-cab21de0dc5c",
   "metadata": {},
   "source": [
    "### In this notebook, Data Science Tools and Ecosystem are summarized"
   ]
  },
  {
   "cell_type": "markdown",
   "id": "1167d28e-70d5-475e-8339-da32dec6b17b",
   "metadata": {},
   "source": [
    "### **Objectives:**\n",
    "+ List popular languages for Data Science\n",
    "+ List development environment open source tools used in data science\n",
    "+ Evaluate simple arithmetic expression"
   ]
  },
  {
   "cell_type": "markdown",
   "id": "996f769e-0a32-4738-952a-9bbc5860cc35",
   "metadata": {
    "tags": []
   },
   "source": [
    "### Some of the popular languages that Data Scientists use are:\n",
    "\n",
    "+ Julia\n",
    "+ Python\n",
    "+ R"
   ]
  },
  {
   "cell_type": "markdown",
   "id": "1abbd88e-5ac2-4fef-8157-aa024731a009",
   "metadata": {},
   "source": [
    "### Some of the commonly used libraries used by Data Scientists include:\n",
    "\n",
    "+ Pandas\n",
    "+ Numpy\n",
    "+ Matplotlib"
   ]
  },
  {
   "cell_type": "markdown",
   "id": "0089ee26-cc09-4814-a3ed-7a262eb598b2",
   "metadata": {},
   "source": [
    "|Data Science Tools |\n",
    "|-------------|\n",
    "|Jupyter|\n",
    "|RStudio|\n",
    "|Spyder|"
   ]
  },
  {
   "cell_type": "markdown",
   "id": "0fbfef77-cb91-41b3-afb7-861038cae512",
   "metadata": {},
   "source": [
    "### Below are a few examples of evaluating arithmetic expressions in Python"
   ]
  },
  {
   "cell_type": "markdown",
   "id": "ae8f47fa-f081-4e6d-bdfa-11ee67a068b1",
   "metadata": {},
   "source": [
    "#### This a simple arithmetic expression to mutiply then add integers"
   ]
  },
  {
   "cell_type": "code",
   "execution_count": 3,
   "id": "709774e0-a2a2-4112-9584-445501cbd0a5",
   "metadata": {
    "tags": []
   },
   "outputs": [
    {
     "data": {
      "text/plain": [
       "17"
      ]
     },
     "execution_count": 3,
     "metadata": {},
     "output_type": "execute_result"
    }
   ],
   "source": [
    "(3*4)+5"
   ]
  },
  {
   "cell_type": "markdown",
   "id": "64c90d78-9c72-44c8-b410-2f2a9f5d1b77",
   "metadata": {},
   "source": [
    "#### This will convert 200 minutes to hours by diving by 60"
   ]
  },
  {
   "cell_type": "code",
   "execution_count": 4,
   "id": "bd4bf0bd-8fba-4af2-a46c-5d1d88b0f519",
   "metadata": {
    "tags": []
   },
   "outputs": [
    {
     "data": {
      "text/plain": [
       "3.3333333333333335"
      ]
     },
     "execution_count": 4,
     "metadata": {},
     "output_type": "execute_result"
    }
   ],
   "source": [
    "200/60"
   ]
  },
  {
   "cell_type": "markdown",
   "id": "00a36ad8-a9f0-49c0-b397-0a06898c4e2b",
   "metadata": {},
   "source": [
    "## Autor:\n",
    "Hernan Pacheco"
   ]
  },
  {
   "cell_type": "code",
   "execution_count": null,
   "id": "bfa29d0f-a0ba-4eee-85b9-21013f499120",
   "metadata": {},
   "outputs": [],
   "source": []
  }
 ],
 "metadata": {
  "kernelspec": {
   "display_name": "Python 3 (ipykernel)",
   "language": "python",
   "name": "python3"
  },
  "language_info": {
   "codemirror_mode": {
    "name": "ipython",
    "version": 3
   },
   "file_extension": ".py",
   "mimetype": "text/x-python",
   "name": "python",
   "nbconvert_exporter": "python",
   "pygments_lexer": "ipython3",
   "version": "3.11.5"
  }
 },
 "nbformat": 4,
 "nbformat_minor": 5
}
